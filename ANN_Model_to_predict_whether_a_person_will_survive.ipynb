{
  "nbformat": 4,
  "nbformat_minor": 0,
  "metadata": {
    "colab": {
      "name": "ANN Model to predict whether a person will survive.ipynb",
      "provenance": [],
      "collapsed_sections": []
    },
    "kernelspec": {
      "name": "python3",
      "display_name": "Python 3"
    }
  },
  "cells": [
    {
      "cell_type": "code",
      "metadata": {
        "id": "AvZtCW6AIYQx",
        "colab_type": "code",
        "colab": {}
      },
      "source": [
        "import numpy as np\n",
        "import keras\n",
        "from keras import backend as k\n",
        "from keras.models import Sequential\n",
        "from keras.layers import Activation\n",
        "from keras.layers.core import Dense\n",
        "from keras.optimizers import Adam\n",
        "from keras.models import  load_model\n",
        "from keras.metrics import categorical_crossentropy\n",
        "from random import randint\n",
        "from sklearn.preprocessing import MinMaxScaler\n",
        "from sklearn.metrics import confusion_matrix\n",
        "import itertools\n",
        "import matplotlib.pyplot as plt\n",
        "import seaborn as sns\n"
      ],
      "execution_count": 0,
      "outputs": []
    },
    {
      "cell_type": "code",
      "metadata": {
        "id": "Mx9Qb0P_ItCn",
        "colab_type": "code",
        "colab": {}
      },
      "source": [
        "train_label =[]\n",
        "train_samples=[]\n",
        "\n",
        "test_label =[]\n",
        "test_samples = []\n"
      ],
      "execution_count": 0,
      "outputs": []
    },
    {
      "cell_type": "code",
      "metadata": {
        "id": "rwwdg2g7JB4E",
        "colab_type": "code",
        "colab": {}
      },
      "source": [
        "for i in range(10):\n",
        "  random_young=randint(13,64)\n",
        "  train_samples.append(random_young)\n",
        "  train_label.append(1)\n",
        "\n",
        "  random_old= randint(65,100)\n",
        "  train_samples.append(random_old)\n",
        "  train_label.append(0)\n",
        "\n",
        "for i in range(200):\n",
        "  random_young=randint(13,64)\n",
        "  train_samples.append(random_young)\n",
        "  train_label.append(0)\n",
        "\n",
        "  random_old= randint(65,100)\n",
        "  train_samples.append(random_old)\n",
        "  train_label.append(1)\n",
        "##############################################3\n",
        "\n",
        "for i in range(10):\n",
        "  random_young=randint(13,64)\n",
        "  test_samples.append(random_young)\n",
        "  test_label.append(1)\n",
        "\n",
        "  random_old= randint(65,100)\n",
        "  test_samples.append(random_old)\n",
        "  test_label.append(0)\n",
        "\n",
        "for i in range(200):\n",
        "  random_young=randint(13,64)\n",
        "  test_samples.append(random_young)\n",
        "  test_label.append(0)\n",
        "\n",
        "  random_old= randint(65,100)\n",
        "  test_samples.append(random_old)\n",
        "  test_label.append(1) \n",
        "  "
      ],
      "execution_count": 0,
      "outputs": []
    },
    {
      "cell_type": "code",
      "metadata": {
        "id": "poT58V7PKcWO",
        "colab_type": "code",
        "colab": {}
      },
      "source": [
        "train_label =  np.array(train_label)\n",
        "train_samples = np.array(train_samples)\n",
        "test_samples = np.array(train_samples)\n",
        "test_label=np.array(test_label)"
      ],
      "execution_count": 0,
      "outputs": []
    },
    {
      "cell_type": "code",
      "metadata": {
        "id": "HmEahFgWK5uQ",
        "colab_type": "code",
        "colab": {}
      },
      "source": [
        "scaler = MinMaxScaler(feature_range=(0,1))\n",
        "scaled_train_samples = scaler.fit_transform((train_samples).reshape(-1,1))\n",
        "scaled_test_samples = scaler.fit_transform((test_samples).reshape(-1,1))"
      ],
      "execution_count": 0,
      "outputs": []
    },
    {
      "cell_type": "code",
      "metadata": {
        "id": "3s_KlYtXLaLf",
        "colab_type": "code",
        "colab": {}
      },
      "source": [
        "model = Sequential([\n",
        "        Dense(16,input_shape=(1,) ,activation='relu'),\n",
        "                Dense(32,activation='relu'),\n",
        "        Dense(2,activation='softmax')                 \n",
        "                    \n",
        "                    \n",
        "                    ])"
      ],
      "execution_count": 0,
      "outputs": []
    },
    {
      "cell_type": "code",
      "metadata": {
        "id": "2KoAPvJtNflK",
        "colab_type": "code",
        "colab": {
          "base_uri": "https://localhost:8080/",
          "height": 252
        },
        "outputId": "08e72008-5b53-4508-a728-0732adb6eaf2"
      },
      "source": [
        "model.summary()"
      ],
      "execution_count": 111,
      "outputs": [
        {
          "output_type": "stream",
          "text": [
            "Model: \"sequential_12\"\n",
            "_________________________________________________________________\n",
            "Layer (type)                 Output Shape              Param #   \n",
            "=================================================================\n",
            "dense_35 (Dense)             (None, 16)                32        \n",
            "_________________________________________________________________\n",
            "dense_36 (Dense)             (None, 32)                544       \n",
            "_________________________________________________________________\n",
            "dense_37 (Dense)             (None, 2)                 66        \n",
            "=================================================================\n",
            "Total params: 642\n",
            "Trainable params: 642\n",
            "Non-trainable params: 0\n",
            "_________________________________________________________________\n"
          ],
          "name": "stdout"
        }
      ]
    },
    {
      "cell_type": "code",
      "metadata": {
        "id": "MGyY9EtpNidk",
        "colab_type": "code",
        "colab": {}
      },
      "source": [
        "model.compile(Adam(lr=0.0001),loss = 'sparse_categorical_crossentropy',metrics=['accuracy'])"
      ],
      "execution_count": 0,
      "outputs": []
    },
    {
      "cell_type": "code",
      "metadata": {
        "id": "9sdzzxtlOXu5",
        "colab_type": "code",
        "colab": {
          "base_uri": "https://localhost:8080/",
          "height": 722
        },
        "outputId": "7093a475-4ab7-4001-eb4e-9aafd4575b15"
      },
      "source": [
        "model.fit(scaled_train_samples,train_label,validation_split=0.1,batch_size=10,epochs=20,shuffle=True,verbose=2) "
      ],
      "execution_count": 113,
      "outputs": [
        {
          "output_type": "stream",
          "text": [
            "Train on 378 samples, validate on 42 samples\n",
            "Epoch 1/20\n",
            " - 1s - loss: 0.6636 - acc: 0.5238 - val_loss: 0.6523 - val_acc: 0.5476\n",
            "Epoch 2/20\n",
            " - 0s - loss: 0.6615 - acc: 0.5291 - val_loss: 0.6492 - val_acc: 0.5952\n",
            "Epoch 3/20\n",
            " - 0s - loss: 0.6592 - acc: 0.5397 - val_loss: 0.6461 - val_acc: 0.6190\n",
            "Epoch 4/20\n",
            " - 0s - loss: 0.6569 - acc: 0.5450 - val_loss: 0.6424 - val_acc: 0.6429\n",
            "Epoch 5/20\n",
            " - 0s - loss: 0.6541 - acc: 0.5582 - val_loss: 0.6382 - val_acc: 0.6667\n",
            "Epoch 6/20\n",
            " - 0s - loss: 0.6504 - acc: 0.5847 - val_loss: 0.6325 - val_acc: 0.6905\n",
            "Epoch 7/20\n",
            " - 0s - loss: 0.6464 - acc: 0.6085 - val_loss: 0.6281 - val_acc: 0.7381\n",
            "Epoch 8/20\n",
            " - 0s - loss: 0.6429 - acc: 0.6190 - val_loss: 0.6233 - val_acc: 0.7857\n",
            "Epoch 9/20\n",
            " - 0s - loss: 0.6392 - acc: 0.6376 - val_loss: 0.6180 - val_acc: 0.7857\n",
            "Epoch 10/20\n",
            " - 0s - loss: 0.6351 - acc: 0.6561 - val_loss: 0.6127 - val_acc: 0.8333\n",
            "Epoch 11/20\n",
            " - 0s - loss: 0.6305 - acc: 0.6852 - val_loss: 0.6072 - val_acc: 0.8333\n",
            "Epoch 12/20\n",
            " - 0s - loss: 0.6263 - acc: 0.7063 - val_loss: 0.6022 - val_acc: 0.8571\n",
            "Epoch 13/20\n",
            " - 0s - loss: 0.6226 - acc: 0.7063 - val_loss: 0.5974 - val_acc: 0.8571\n",
            "Epoch 14/20\n",
            " - 0s - loss: 0.6188 - acc: 0.7275 - val_loss: 0.5926 - val_acc: 0.8810\n",
            "Epoch 15/20\n",
            " - 0s - loss: 0.6152 - acc: 0.7434 - val_loss: 0.5878 - val_acc: 0.8810\n",
            "Epoch 16/20\n",
            " - 0s - loss: 0.6113 - acc: 0.7619 - val_loss: 0.5829 - val_acc: 0.8810\n",
            "Epoch 17/20\n",
            " - 0s - loss: 0.6076 - acc: 0.7751 - val_loss: 0.5780 - val_acc: 0.8810\n",
            "Epoch 18/20\n",
            " - 0s - loss: 0.6036 - acc: 0.7778 - val_loss: 0.5728 - val_acc: 0.8810\n",
            "Epoch 19/20\n",
            " - 0s - loss: 0.5997 - acc: 0.7831 - val_loss: 0.5676 - val_acc: 0.9048\n",
            "Epoch 20/20\n",
            " - 0s - loss: 0.5956 - acc: 0.7831 - val_loss: 0.5621 - val_acc: 0.9048\n"
          ],
          "name": "stdout"
        },
        {
          "output_type": "execute_result",
          "data": {
            "text/plain": [
              "<keras.callbacks.History at 0x7f35e1b16320>"
            ]
          },
          "metadata": {
            "tags": []
          },
          "execution_count": 113
        }
      ]
    },
    {
      "cell_type": "code",
      "metadata": {
        "id": "BizV1XdoO5TH",
        "colab_type": "code",
        "colab": {}
      },
      "source": [
        "predictions = model.predict_classes(scaled_train_samples,batch_size=10,verbose=0)"
      ],
      "execution_count": 0,
      "outputs": []
    },
    {
      "cell_type": "code",
      "metadata": {
        "id": "0k4WKPxoYE8w",
        "colab_type": "code",
        "colab": {
          "base_uri": "https://localhost:8080/",
          "height": 1000
        },
        "outputId": "9f29914d-c90a-4cf0-d72b-8c6d57cc674b"
      },
      "source": [
        "for i in predictions:\n",
        "  print(i)"
      ],
      "execution_count": 115,
      "outputs": [
        {
          "output_type": "stream",
          "text": [
            "1\n",
            "1\n",
            "1\n",
            "1\n",
            "1\n",
            "1\n",
            "0\n",
            "1\n",
            "0\n",
            "1\n",
            "1\n",
            "1\n",
            "1\n",
            "1\n",
            "1\n",
            "1\n",
            "1\n",
            "1\n",
            "0\n",
            "1\n",
            "0\n",
            "1\n",
            "1\n",
            "1\n",
            "0\n",
            "1\n",
            "1\n",
            "1\n",
            "0\n",
            "1\n",
            "1\n",
            "1\n",
            "1\n",
            "1\n",
            "1\n",
            "1\n",
            "0\n",
            "1\n",
            "1\n",
            "1\n",
            "0\n",
            "1\n",
            "1\n",
            "1\n",
            "1\n",
            "1\n",
            "0\n",
            "1\n",
            "0\n",
            "1\n",
            "0\n",
            "1\n",
            "1\n",
            "1\n",
            "1\n",
            "1\n",
            "1\n",
            "1\n",
            "0\n",
            "1\n",
            "0\n",
            "1\n",
            "0\n",
            "1\n",
            "0\n",
            "1\n",
            "0\n",
            "1\n",
            "0\n",
            "1\n",
            "1\n",
            "1\n",
            "1\n",
            "1\n",
            "0\n",
            "1\n",
            "0\n",
            "1\n",
            "1\n",
            "1\n",
            "0\n",
            "1\n",
            "0\n",
            "1\n",
            "0\n",
            "1\n",
            "0\n",
            "1\n",
            "0\n",
            "1\n",
            "0\n",
            "1\n",
            "0\n",
            "1\n",
            "1\n",
            "1\n",
            "0\n",
            "1\n",
            "1\n",
            "1\n",
            "0\n",
            "1\n",
            "0\n",
            "1\n",
            "1\n",
            "1\n",
            "1\n",
            "1\n",
            "0\n",
            "1\n",
            "1\n",
            "1\n",
            "0\n",
            "1\n",
            "0\n",
            "1\n",
            "1\n",
            "1\n",
            "1\n",
            "1\n",
            "0\n",
            "1\n",
            "0\n",
            "1\n",
            "1\n",
            "1\n",
            "0\n",
            "1\n",
            "0\n",
            "1\n",
            "0\n",
            "1\n",
            "1\n",
            "1\n",
            "0\n",
            "1\n",
            "1\n",
            "1\n",
            "0\n",
            "1\n",
            "0\n",
            "1\n",
            "0\n",
            "1\n",
            "0\n",
            "1\n",
            "0\n",
            "1\n",
            "1\n",
            "1\n",
            "0\n",
            "1\n",
            "0\n",
            "1\n",
            "1\n",
            "1\n",
            "1\n",
            "1\n",
            "1\n",
            "1\n",
            "1\n",
            "1\n",
            "0\n",
            "1\n",
            "1\n",
            "1\n",
            "1\n",
            "1\n",
            "0\n",
            "1\n",
            "0\n",
            "1\n",
            "1\n",
            "1\n",
            "0\n",
            "1\n",
            "0\n",
            "1\n",
            "0\n",
            "1\n",
            "0\n",
            "1\n",
            "1\n",
            "1\n",
            "1\n",
            "1\n",
            "0\n",
            "1\n",
            "1\n",
            "1\n",
            "1\n",
            "1\n",
            "1\n",
            "1\n",
            "0\n",
            "1\n",
            "0\n",
            "1\n",
            "1\n",
            "1\n",
            "1\n",
            "1\n",
            "0\n",
            "1\n",
            "0\n",
            "1\n",
            "1\n",
            "1\n",
            "0\n",
            "1\n",
            "0\n",
            "1\n",
            "1\n",
            "1\n",
            "0\n",
            "1\n",
            "0\n",
            "1\n",
            "1\n",
            "1\n",
            "0\n",
            "1\n",
            "0\n",
            "1\n",
            "1\n",
            "1\n",
            "1\n",
            "1\n",
            "0\n",
            "1\n",
            "0\n",
            "1\n",
            "0\n",
            "1\n",
            "1\n",
            "1\n",
            "0\n",
            "1\n",
            "1\n",
            "1\n",
            "0\n",
            "1\n",
            "0\n",
            "1\n",
            "0\n",
            "1\n",
            "1\n",
            "1\n",
            "0\n",
            "1\n",
            "1\n",
            "1\n",
            "0\n",
            "1\n",
            "1\n",
            "1\n",
            "0\n",
            "1\n",
            "0\n",
            "1\n",
            "0\n",
            "1\n",
            "0\n",
            "1\n",
            "0\n",
            "1\n",
            "0\n",
            "1\n",
            "0\n",
            "1\n",
            "1\n",
            "1\n",
            "0\n",
            "1\n",
            "1\n",
            "1\n",
            "1\n",
            "1\n",
            "1\n",
            "1\n",
            "0\n",
            "1\n",
            "0\n",
            "1\n",
            "0\n",
            "1\n",
            "1\n",
            "1\n",
            "0\n",
            "1\n",
            "1\n",
            "1\n",
            "0\n",
            "1\n",
            "0\n",
            "1\n",
            "0\n",
            "1\n",
            "0\n",
            "1\n",
            "1\n",
            "1\n",
            "1\n",
            "1\n",
            "0\n",
            "1\n",
            "1\n",
            "1\n",
            "0\n",
            "1\n",
            "1\n",
            "1\n",
            "0\n",
            "1\n",
            "0\n",
            "1\n",
            "0\n",
            "1\n",
            "0\n",
            "1\n",
            "1\n",
            "1\n",
            "0\n",
            "1\n",
            "0\n",
            "1\n",
            "1\n",
            "1\n",
            "1\n",
            "1\n",
            "1\n",
            "1\n",
            "1\n",
            "1\n",
            "1\n",
            "1\n",
            "0\n",
            "1\n",
            "0\n",
            "1\n",
            "1\n",
            "1\n",
            "0\n",
            "1\n",
            "0\n",
            "1\n",
            "1\n",
            "1\n",
            "0\n",
            "1\n",
            "1\n",
            "1\n",
            "0\n",
            "1\n",
            "0\n",
            "1\n",
            "0\n",
            "1\n",
            "1\n",
            "1\n",
            "0\n",
            "1\n",
            "0\n",
            "1\n",
            "0\n",
            "1\n",
            "0\n",
            "1\n",
            "0\n",
            "1\n",
            "0\n",
            "1\n",
            "0\n",
            "1\n",
            "0\n",
            "1\n",
            "0\n",
            "1\n",
            "1\n",
            "1\n",
            "0\n",
            "1\n",
            "0\n",
            "1\n",
            "0\n",
            "1\n",
            "0\n",
            "1\n",
            "0\n",
            "1\n",
            "0\n",
            "1\n",
            "1\n",
            "1\n",
            "0\n",
            "1\n",
            "0\n",
            "1\n",
            "0\n",
            "1\n",
            "0\n",
            "1\n",
            "0\n",
            "1\n",
            "1\n",
            "1\n",
            "0\n",
            "1\n",
            "0\n",
            "1\n",
            "0\n",
            "1\n",
            "0\n",
            "1\n",
            "0\n",
            "1\n",
            "1\n",
            "1\n",
            "0\n",
            "1\n"
          ],
          "name": "stdout"
        }
      ]
    },
    {
      "cell_type": "code",
      "metadata": {
        "id": "QfygI-liYJmI",
        "colab_type": "code",
        "colab": {
          "base_uri": "https://localhost:8080/",
          "height": 296
        },
        "outputId": "6b4b1e5d-49b1-41b8-be14-9bf86322b51a"
      },
      "source": [
        "\n",
        "sns.heatmap(confusion_matrix(test_label,predictions),annot=True,fmt='.5g') \n",
        "#\n",
        "plt.ylabel('True label')\n",
        "plt.xlabel('Predicted label')"
      ],
      "execution_count": 122,
      "outputs": [
        {
          "output_type": "execute_result",
          "data": {
            "text/plain": [
              "Text(0.5, 15.0, 'Predicted label')"
            ]
          },
          "metadata": {
            "tags": []
          },
          "execution_count": 122
        },
        {
          "output_type": "display_data",
          "data": {
            "image/png": "[encoded data removed]",
            "text/plain": [
              "<Figure size 432x288 with 2 Axes>"
            ]
          },
          "metadata": {
            "tags": []
          }
        }
      ]
    },
    {
      "cell_type": "code",
      "metadata": {
        "id": "Iwv8yHnzeyWV",
        "colab_type": "code",
        "colab": {}
      },
      "source": [
        "model.save('medical_trail_model.h5')"
      ],
      "execution_count": 0,
      "outputs": []
    },
    {
      "cell_type": "code",
      "metadata": {
        "id": "AxEHNEhJfDPH",
        "colab_type": "code",
        "colab": {}
      },
      "source": [
        "new_model =load_model('medical_trail_model.h5')"
      ],
      "execution_count": 0,
      "outputs": []
    },
    {
      "cell_type": "code",
      "metadata": {
        "id": "iar_TpPtfXYb",
        "colab_type": "code",
        "colab": {
          "base_uri": "https://localhost:8080/",
          "height": 252
        },
        "outputId": "9edcc2ae-d78d-4249-e2fb-5b851f16bd5b"
      },
      "source": [
        "new_model.summary()"
      ],
      "execution_count": 127,
      "outputs": [
        {
          "output_type": "stream",
          "text": [
            "Model: \"sequential_12\"\n",
            "_________________________________________________________________\n",
            "Layer (type)                 Output Shape              Param #   \n",
            "=================================================================\n",
            "dense_35 (Dense)             (None, 16)                32        \n",
            "_________________________________________________________________\n",
            "dense_36 (Dense)             (None, 32)                544       \n",
            "_________________________________________________________________\n",
            "dense_37 (Dense)             (None, 2)                 66        \n",
            "=================================================================\n",
            "Total params: 642\n",
            "Trainable params: 642\n",
            "Non-trainable params: 0\n",
            "_________________________________________________________________\n"
          ],
          "name": "stdout"
        }
      ]
    },
    {
      "cell_type": "code",
      "metadata": {
        "id": "C31UoAo1fZeM",
        "colab_type": "code",
        "colab": {
          "base_uri": "https://localhost:8080/",
          "height": 34
        },
        "outputId": "a878d680-0621-434f-cc97-75b73f849e56"
      },
      "source": [
        "new_model.optimizer"
      ],
      "execution_count": 128,
      "outputs": [
        {
          "output_type": "execute_result",
          "data": {
            "text/plain": [
              "<keras.optimizers.Adam at 0x7f35e12fd940>"
            ]
          },
          "metadata": {
            "tags": []
          },
          "execution_count": 128
        }
      ]
    },
    {
      "cell_type": "code",
      "metadata": {
        "id": "dMZH-OUkfl2u",
        "colab_type": "code",
        "colab": {
          "base_uri": "https://localhost:8080/",
          "height": 118
        },
        "outputId": "3a32a637-e779-49b2-b9f8-47457b77602b"
      },
      "source": [
        "new_model.weights"
      ],
      "execution_count": 129,
      "outputs": [
        {
          "output_type": "execute_result",
          "data": {
            "text/plain": [
              "[<tf.Variable 'dense_35_1/kernel:0' shape=(1, 16) dtype=float32_ref>,\n",
              " <tf.Variable 'dense_35_1/bias:0' shape=(16,) dtype=float32_ref>,\n",
              " <tf.Variable 'dense_36_1/kernel:0' shape=(16, 32) dtype=float32_ref>,\n",
              " <tf.Variable 'dense_36_1/bias:0' shape=(32,) dtype=float32_ref>,\n",
              " <tf.Variable 'dense_37_1/kernel:0' shape=(32, 2) dtype=float32_ref>,\n",
              " <tf.Variable 'dense_37_1/bias:0' shape=(2,) dtype=float32_ref>]"
            ]
          },
          "metadata": {
            "tags": []
          },
          "execution_count": 129
        }
      ]
    },
    {
      "cell_type": "code",
      "metadata": {
        "id": "YVt1vWejfoIW",
        "colab_type": "code",
        "colab": {}
      },
      "source": [
        ""
      ],
      "execution_count": 0,
      "outputs": []
    }
  ]
}